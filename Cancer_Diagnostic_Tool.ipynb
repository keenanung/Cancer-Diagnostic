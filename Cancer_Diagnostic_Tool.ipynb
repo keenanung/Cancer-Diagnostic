{
 "cells": [
  {
   "cell_type": "code",
   "execution_count": 2,
   "id": "a3b2c570",
   "metadata": {},
   "outputs": [],
   "source": [
    "import numpy as numpy\n",
    "import matplotlib.pyplot as plt\n",
    "from sklearn.linear_model import LogisticRegression\n",
    "import csv"
   ]
  },
  {
   "cell_type": "code",
   "execution_count": 3,
   "id": "70e604be",
   "metadata": {
    "collapsed": true
   },
   "outputs": [
    {
     "name": "stdout",
     "output_type": "stream",
     "text": [
      "['15-19', '15-19', '35-39', '35-39', '30-34', '25-29', '40-44', '14-Oct', '0-4', '40-44', '25-29', '15-19', '30-34', '25-29', '25-29', '20-24', '14-Oct', '15-19', '40-44', '20-24', '20-24', '40-44', '15-19', '14-Oct', '15-19', '20-24', '14-Oct', '14-Oct', '30-34', '15-19', '30-34', '25-29', '25-29', '20-24', '30-34', '15-19', '14-Oct', '45-49', '20-24', '14-Oct', '35-39', '35-39', '25-29', '20-24', '15-19', '30-34', '14-Oct', '35-39', '50-54', '40-44', '15-19', '30-34', '0-4', '40-44', '25-29', '25-29', '20-24', '35-39', '50-54', '0-4', '40-44', '30-34', '20-24', '30-34', '20-24', '15-19', '25-29', '15-19', '50-54', '14-Oct', '25-29', '25-29', '14-Oct', '30-34', '25-29', '14-Oct', '15-19', '25-29', '25-29', '30-34', '15-19', '25-29', '30-34', '15-19', '0-4', '35-39', '40-44', '25-29', '20-24', '30-34', '20-24', '30-34', '20-24', '14-Oct', '20-24', '45-49', '40-44', '14-Oct', '30-34', '35-39', '20-24', '15-19', '30-34', '20-24', '20-24', '30-34', '20-24', '25-29', '30-34', '20-24', '15-19', '30-34', '30-34', '40-44', '09-May', '14-Oct', '30-34', '14-Oct', '35-39', '20-24', '30-34', '25-29', '15-19', '35-39', '14-Oct', '30-34', '30-34', '25-29', '15-19', '15-19', '30-34', '35-39', '30-34', '25-29', '30-34', '15-19', '0-4', '0-4', '50-54', '30-34', '20-24', '25-29', '30-34', '20-24', '15-19', '14-Oct', '30-34', '14-Oct', '40-44', '30-34', '50-54', '15-19', '40-44', '25-29', '14-Oct', '14-Oct', '30-34', '20-24', '14-Oct', '25-29', '25-29', '30-34', '50-54', '30-34', '20-24', '30-34', '25-29', '20-24', '20-24', '50-54', '20-24', '30-34', '25-29', '25-29', '40-44', '20-24', '20-24', '25-29', '25-29', '20-24', '40-44', '14-Oct', '35-39', '30-34', '09-May', '15-19', '30-34', '25-29', '09-May', '25-29', '25-29', '14-Oct', '35-39', '50-54', '25-29', '20-24', '30-34', '30-34', '15-19', '20-24', '09-May', '30-34', '30-34', '25-29', '25-29', '40-44', '25-29', '30-34', '30-34', '25-29', '25-29', '40-44', '20-24', '25-29', '20-24', '40-44', '25-29', '25-29', '45-49', '20-24', '25-29', '20-24', '20-24', '35-39', '20-24', '30-34', '25-29', '30-34', '25-29', '20-24', '20-24', '14-Oct', '15-19', '25-29', '20-24', '40-44', '15-19', '30-34', '30-34', '40-44', '30-34', '14-Oct', '40-44', '30-34', '30-34', '15-19', '14-Oct', '20-24', '14-Oct', '25-29', '30-34', '14-Oct', '30-34', '0-4', '25-29', '25-29', '40-44', '25-29', '30-34', '20-24', '20-24', '25-29', '30-34', '20-24', '30-34', '0-4', '20-24', '35-39', '30-34', '20-24', '25-29', '35-39', '20-24', '20-24', '35-39', '35-39', '25-29', '35-39', '30-34', '20-24', '15-19', '30-34', '25-29', '30-34', '15-19', '40-44']\n"
     ]
    }
   ],
   "source": [
    "#load file\n",
    "data = numpy.genfromtxt('data.csv', delimiter=',')\n",
    "\n",
    "with open('data.csv', 'r') as file:\n",
    "    reader = csv.reader(file)\n",
    "    header = next(reader)\n",
    "    \n",
    "    data = list(reader)\n",
    "    \n",
    "    size_index = header.index('tumor-size')\n",
    "    uncleaned_size_data = [row[size_index] for row in data]\n",
    "    \n",
    "    diagnosis_index = header.index('diagnosis')\n",
    "    uncleaned_diagnosis_data = [row[diagnosis_index] for row in data]\n",
    "    \n",
    "#print(uncleaned_size_data)\n",
    "# print('------------------------------')\n",
    "# print(uncleaned_diagnosis_data)\n",
    "# print(len(uncleaned_size_data))\n",
    "# print(len(uncleaned_diagnosis_data))"
   ]
  },
  {
   "cell_type": "code",
   "execution_count": 3,
   "id": "aa8eb312",
   "metadata": {},
   "outputs": [],
   "source": [
    "#isolate longest measurement\n",
    "new_size_data = uncleaned_size_data\n",
    "index = 0\n",
    "\n",
    "for datum in uncleaned_size_data:\n",
    "    entry = new_size_data[index]\n",
    "    entry = entry[3:5]\n",
    "    new_size_data[index] = entry\n",
    "    index = index + 1\n",
    "# print(new_size_data)"
   ]
  },
  {
   "cell_type": "code",
   "execution_count": 4,
   "id": "0ba1e8bb",
   "metadata": {},
   "outputs": [],
   "source": [
    "#clean data\n",
    "size_data = []\n",
    "diagnosis_data = []\n",
    "index2 = 0\n",
    "\n",
    "for datum in new_size_data:\n",
    "    if datum != '' and not datum[:1].isalpha():\n",
    "        size_data.append(new_size_data[index2])\n",
    "        diagnosis_data.append(uncleaned_diagnosis_data[index2])\n",
    "    index2 = index2 + 1\n",
    "\n",
    "# print(size_data)"
   ]
  },
  {
   "cell_type": "code",
   "execution_count": 5,
   "id": "4bb94be6",
   "metadata": {},
   "outputs": [],
   "source": [
    "#convert both data sets to integers\n",
    "index3 = 0\n",
    "for datum in size_data:\n",
    "    size_data[index3] = int(size_data[index3])\n",
    "    diagnosis_data[index3] = int(diagnosis_data[index3])\n",
    "    index3 = index3 + 1\n",
    "\n",
    "# print(size_data)"
   ]
  },
  {
   "cell_type": "code",
   "execution_count": 6,
   "id": "dc3ef28a",
   "metadata": {},
   "outputs": [],
   "source": [
    "#turn diagnosis into binary result\n",
    "index4 = 0\n",
    "for datum in diagnosis_data:\n",
    "    if int(datum) != 3:\n",
    "        diagnosis_data[index4] = 0\n",
    "    else:\n",
    "        diagnosis_data[index4] = 1\n",
    "    index4 = index4 + 1\n",
    "\n",
    "#print(size_data)\n",
    "#print('------------------------------')\n",
    "#print(diagnosis_data)"
   ]
  },
  {
   "cell_type": "code",
   "execution_count": 7,
   "id": "e52368d1",
   "metadata": {},
   "outputs": [],
   "source": [
    "#make logistic algorithm\n",
    "X = numpy.array(size_data)\n",
    "X = numpy.array(X).reshape(-1, 1)\n",
    "y = numpy.array(diagnosis_data)"
   ]
  },
  {
   "cell_type": "code",
   "execution_count": 8,
   "id": "78bb87c3",
   "metadata": {},
   "outputs": [
    {
     "data": {
      "text/plain": [
       "LogisticRegression()"
      ]
     },
     "execution_count": 8,
     "metadata": {},
     "output_type": "execute_result"
    }
   ],
   "source": [
    "lr_model = LogisticRegression()\n",
    "lr_model.fit(X, y)"
   ]
  },
  {
   "cell_type": "code",
   "execution_count": 9,
   "id": "93d7d4e4",
   "metadata": {},
   "outputs": [],
   "source": [
    "test = numpy.array([60, 61, 19, 66, 68])\n",
    "test = test.reshape(-1,1)"
   ]
  },
  {
   "cell_type": "code",
   "execution_count": 10,
   "id": "8853310e",
   "metadata": {},
   "outputs": [
    {
     "name": "stdout",
     "output_type": "stream",
     "text": [
      "Prediction on training set: [0 1 0 1 1]\n"
     ]
    }
   ],
   "source": [
    "y_pred = lr_model.predict(test)\n",
    "\n",
    "print(\"Prediction on training set:\", y_pred)"
   ]
  },
  {
   "cell_type": "code",
   "execution_count": 11,
   "id": "8b60068a",
   "metadata": {
    "collapsed": true
   },
   "outputs": [
    {
     "data": {
      "image/png": "[encoded data removed]",
      "text/plain": [
       "<Figure size 432x288 with 1 Axes>"
      ]
     },
     "metadata": {
      "needs_background": "light"
     },
     "output_type": "display_data"
    }
   ],
   "source": [
    "x_values = numpy.linspace(min(X), max(X), 100)\n",
    "y_probabilities = lr_model.predict_proba(x_values.reshape(-1, 1))[:, 1]\n",
    "\n",
    "plt.scatter(X, y, color='black', label='Data Points')\n",
    "plt.plot(x_values, y_probabilities, color='blue', label='Decision Boundary')\n",
    "\n",
    "plt.xlabel('X')\n",
    "plt.ylabel('y')\n",
    "plt.legend()\n",
    "plt.title('Logistic Regression')\n",
    "\n",
    "plt.show()"
   ]
  }
 ],
 "metadata": {
  "kernelspec": {
   "display_name": "Python 3 (ipykernel)",
   "language": "python",
   "name": "python3"
  },
  "language_info": {
   "codemirror_mode": {
    "name": "ipython",
    "version": 3
   },
   "file_extension": ".py",
   "mimetype": "text/x-python",
   "name": "python",
   "nbconvert_exporter": "python",
   "pygments_lexer": "ipython3",
   "version": "3.9.12"
  }
 },
 "nbformat": 4,
 "nbformat_minor": 5
}
